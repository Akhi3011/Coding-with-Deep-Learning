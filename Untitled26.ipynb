{
 "cells": [
  {
   "cell_type": "markdown",
   "id": "7954e61c",
   "metadata": {},
   "source": [
    "# CNN for Image Classification"
   ]
  },
  {
   "cell_type": "code",
   "execution_count": 4,
   "id": "a2630ff7",
   "metadata": {},
   "outputs": [
    {
     "name": "stdout",
     "output_type": "stream",
     "text": [
      "Epoch 1/10\n",
      "1563/1563 [==============================] - 38s 23ms/step - loss: 1.5051 - accuracy: 0.4499\n",
      "Epoch 2/10\n",
      "1563/1563 [==============================] - 39s 25ms/step - loss: 1.1440 - accuracy: 0.5942\n",
      "Epoch 3/10\n",
      "1563/1563 [==============================] - 36s 23ms/step - loss: 1.0078 - accuracy: 0.6436\n",
      "Epoch 4/10\n",
      "1563/1563 [==============================] - 38s 25ms/step - loss: 0.9157 - accuracy: 0.6789\n",
      "Epoch 5/10\n",
      "1563/1563 [==============================] - 47s 30ms/step - loss: 0.8556 - accuracy: 0.7003\n",
      "Epoch 6/10\n",
      "1563/1563 [==============================] - 62s 40ms/step - loss: 0.7989 - accuracy: 0.7199\n",
      "Epoch 7/10\n",
      "1563/1563 [==============================] - 62s 39ms/step - loss: 0.7488 - accuracy: 0.7358\n",
      "Epoch 8/10\n",
      "1563/1563 [==============================] - 62s 40ms/step - loss: 0.7120 - accuracy: 0.7495\n",
      "Epoch 9/10\n",
      "1563/1563 [==============================] - 62s 40ms/step - loss: 0.6752 - accuracy: 0.7634\n",
      "Epoch 10/10\n",
      "1563/1563 [==============================] - 64s 41ms/step - loss: 0.6421 - accuracy: 0.7749\n",
      "313/313 [==============================] - 5s 14ms/step - loss: 0.8909 - accuracy: 0.7047\n",
      "Test accuracy: 0.7046999931335449\n"
     ]
    }
   ],
   "source": [
    "import tensorflow as tf\n",
    "from tensorflow import keras\n",
    "from tensorflow.keras import layers\n",
    "\n",
    "# Load your image dataset and labels (replace with your actual data loading code)\n",
    "(train_images, train_labels), (test_images, test_labels) = keras.datasets.cifar10.load_data()\n",
    "\n",
    "# Preprocess the data (e.g., normalize pixel values)\n",
    "train_images = train_images / 255.0\n",
    "test_images = test_images / 255.0\n",
    "\n",
    "# Define the number of classes\n",
    "num_classes = 10  # Assuming you are using the CIFAR-10 dataset\n",
    "\n",
    "# Define the CNN model\n",
    "model = keras.Sequential([\n",
    "    layers.Conv2D(32, (3, 3), activation='relu', input_shape=(32, 32, 3)),\n",
    "    layers.MaxPooling2D((2, 2)),\n",
    "    layers.Conv2D(64, (3, 3), activation='relu'),\n",
    "    layers.MaxPooling2D((2, 2)),\n",
    "    layers.Conv2D(64, (3, 3), activation='relu'),\n",
    "    layers.Flatten(),\n",
    "    layers.Dense(64, activation='relu'),\n",
    "    layers.Dense(num_classes, activation='softmax')\n",
    "])\n",
    "\n",
    "# Compile the model\n",
    "model.compile(optimizer='adam',\n",
    "              loss='sparse_categorical_crossentropy',\n",
    "              metrics=['accuracy'])\n",
    "\n",
    "# Train the model\n",
    "model.fit(train_images, train_labels, epochs=10)\n",
    "\n",
    "# Evaluate the model\n",
    "test_loss, test_acc = model.evaluate(test_images, test_labels)\n",
    "print(f'Test accuracy: {test_acc}')\n"
   ]
  },
  {
   "cell_type": "markdown",
   "id": "70068749",
   "metadata": {},
   "source": [
    "# K-Means Clustering"
   ]
  },
  {
   "cell_type": "code",
   "execution_count": 15,
   "id": "fa7e14ad",
   "metadata": {},
   "outputs": [],
   "source": [
    "from sklearn.cluster import KMeans\n",
    "from sklearn.datasets import load_iris\n",
    "import pandas as pd"
   ]
  },
  {
   "cell_type": "code",
   "execution_count": 16,
   "id": "2728168c",
   "metadata": {},
   "outputs": [],
   "source": [
    "# Load the Iris dataset\n",
    "data = load_iris()\n",
    "X = data.data  # The features (sepal length, sepal width, petal length, and petal width)"
   ]
  },
  {
   "cell_type": "code",
   "execution_count": 17,
   "id": "f384e26f",
   "metadata": {},
   "outputs": [],
   "source": [
    "# Define the K-Means model with the desired number of clusters (k)\n",
    "k = 3  # Replace with the desired number of clusters\n",
    "kmeans = KMeans(n_clusters=k)\n",
    "\n",
    "# Fit the model to the data\n",
    "kmeans.fit(X)\n",
    "\n",
    "# Get cluster assignments for each data point\n",
    "labels = kmeans.labels_"
   ]
  },
  {
   "cell_type": "code",
   "execution_count": 18,
   "id": "6a946b09",
   "metadata": {},
   "outputs": [],
   "source": [
    "# Add cluster labels to the original dataset\n",
    "iris_df = pd.DataFrame(data=np.c_[X, labels], columns=data.feature_names + ['Cluster'])\n",
    "\n",
    "# Get cluster centroids\n",
    "centroids = kmeans.cluster_centers_"
   ]
  },
  {
   "cell_type": "code",
   "execution_count": 19,
   "id": "bfcfddec",
   "metadata": {},
   "outputs": [
    {
     "name": "stdout",
     "output_type": "stream",
     "text": [
      "Cluster Assignments:\n",
      "     sepal length (cm)  sepal width (cm)  petal length (cm)  petal width (cm)  \\\n",
      "0                  5.1               3.5                1.4               0.2   \n",
      "1                  4.9               3.0                1.4               0.2   \n",
      "2                  4.7               3.2                1.3               0.2   \n",
      "3                  4.6               3.1                1.5               0.2   \n",
      "4                  5.0               3.6                1.4               0.2   \n",
      "..                 ...               ...                ...               ...   \n",
      "145                6.7               3.0                5.2               2.3   \n",
      "146                6.3               2.5                5.0               1.9   \n",
      "147                6.5               3.0                5.2               2.0   \n",
      "148                6.2               3.4                5.4               2.3   \n",
      "149                5.9               3.0                5.1               1.8   \n",
      "\n",
      "     Cluster  \n",
      "0        1.0  \n",
      "1        1.0  \n",
      "2        1.0  \n",
      "3        1.0  \n",
      "4        1.0  \n",
      "..       ...  \n",
      "145      0.0  \n",
      "146      2.0  \n",
      "147      0.0  \n",
      "148      0.0  \n",
      "149      2.0  \n",
      "\n",
      "[150 rows x 5 columns]\n"
     ]
    }
   ],
   "source": [
    "print(\"Cluster Assignments:\")\n",
    "print(iris_df)"
   ]
  },
  {
   "cell_type": "code",
   "execution_count": 20,
   "id": "e48c2776",
   "metadata": {},
   "outputs": [
    {
     "name": "stdout",
     "output_type": "stream",
     "text": [
      "\n",
      "Cluster Centroids:\n",
      "   sepal length (cm)  sepal width (cm)  petal length (cm)  petal width (cm)\n",
      "0           6.850000          3.073684           5.742105          2.071053\n",
      "1           5.006000          3.428000           1.462000          0.246000\n",
      "2           5.901613          2.748387           4.393548          1.433871\n"
     ]
    }
   ],
   "source": [
    "print(\"\\nCluster Centroids:\")\n",
    "print(pd.DataFrame(data=centroids, columns=data.feature_names))"
   ]
  },
  {
   "cell_type": "markdown",
   "id": "b32e1b51",
   "metadata": {},
   "source": [
    "# Agglomerative Hierarchical Clustering"
   ]
  },
  {
   "cell_type": "code",
   "execution_count": 27,
   "id": "7324d95e",
   "metadata": {},
   "outputs": [],
   "source": [
    "from sklearn.cluster import AgglomerativeClustering\n",
    "from sklearn.datasets import load_wine\n",
    "import pandas as pd"
   ]
  },
  {
   "cell_type": "code",
   "execution_count": 28,
   "id": "f725b675",
   "metadata": {},
   "outputs": [],
   "source": [
    "# Load the Wine dataset\n",
    "data = load_wine()\n",
    "X = data.data  # The features\n",
    "\n",
    "# Define the AgglomerativeClustering model with the desired number of clusters (k)\n",
    "k = 3  # Replace with the desired number of clusters\n",
    "agg_clustering = AgglomerativeClustering(n_clusters=k)"
   ]
  },
  {
   "cell_type": "code",
   "execution_count": 29,
   "id": "79c80a55",
   "metadata": {},
   "outputs": [],
   "source": [
    "# Fit the model to the data and get cluster assignments\n",
    "labels = agg_clustering.fit_predict(X)\n",
    "\n",
    "# Create a DataFrame with cluster assignments\n",
    "wine_df = pd.DataFrame(data.data, columns=data.feature_names)\n",
    "wine_df['Cluster'] = labels"
   ]
  },
  {
   "cell_type": "code",
   "execution_count": 30,
   "id": "d79f1222",
   "metadata": {},
   "outputs": [],
   "source": [
    "# Group data points by cluster\n",
    "clusters = wine_df.groupby('Cluster')\n"
   ]
  },
  {
   "cell_type": "code",
   "execution_count": 31,
   "id": "c40036d1",
   "metadata": {},
   "outputs": [
    {
     "name": "stdout",
     "output_type": "stream",
     "text": [
      "Cluster 0:\n",
      "   alcohol  malic_acid   ash  alcalinity_of_ash  magnesium  total_phenols  \\\n",
      "0    14.23        1.71  2.43               15.6      127.0           2.80   \n",
      "1    13.20        1.78  2.14               11.2      100.0           2.65   \n",
      "2    13.16        2.36  2.67               18.6      101.0           2.80   \n",
      "3    14.37        1.95  2.50               16.8      113.0           3.85   \n",
      "5    14.20        1.76  2.45               15.2      112.0           3.27   \n",
      "\n",
      "   flavanoids  nonflavanoid_phenols  proanthocyanins  color_intensity   hue  \\\n",
      "0        3.06                  0.28             2.29             5.64  1.04   \n",
      "1        2.76                  0.26             1.28             4.38  1.05   \n",
      "2        3.24                  0.30             2.81             5.68  1.03   \n",
      "3        3.49                  0.24             2.18             7.80  0.86   \n",
      "5        3.39                  0.34             1.97             6.75  1.05   \n",
      "\n",
      "   od280/od315_of_diluted_wines  proline  Cluster  \n",
      "0                          3.92   1065.0        0  \n",
      "1                          3.40   1050.0        0  \n",
      "2                          3.17   1185.0        0  \n",
      "3                          3.45   1480.0        0  \n",
      "5                          2.85   1450.0        0  \n",
      "\n",
      "Cluster 1:\n",
      "    alcohol  malic_acid   ash  alcalinity_of_ash  magnesium  total_phenols  \\\n",
      "59    12.37        0.94  1.36               10.6       88.0           1.98   \n",
      "61    12.64        1.36  2.02               16.8      100.0           2.02   \n",
      "63    12.37        1.13  2.16               19.0       87.0           3.50   \n",
      "64    12.17        1.45  2.53               19.0      104.0           1.89   \n",
      "66    13.11        1.01  1.70               15.0       78.0           2.98   \n",
      "\n",
      "    flavanoids  nonflavanoid_phenols  proanthocyanins  color_intensity   hue  \\\n",
      "59        0.57                  0.28             0.42             1.95  1.05   \n",
      "61        1.41                  0.53             0.62             5.75  0.98   \n",
      "63        3.10                  0.19             1.87             4.45  1.22   \n",
      "64        1.75                  0.45             1.03             2.95  1.45   \n",
      "66        3.18                  0.26             2.28             5.30  1.12   \n",
      "\n",
      "    od280/od315_of_diluted_wines  proline  Cluster  \n",
      "59                          1.82    520.0        1  \n",
      "61                          1.59    450.0        1  \n",
      "63                          2.87    420.0        1  \n",
      "64                          2.23    355.0        1  \n",
      "66                          3.18    502.0        1  \n",
      "\n",
      "Cluster 2:\n",
      "    alcohol  malic_acid   ash  alcalinity_of_ash  magnesium  total_phenols  \\\n",
      "4     13.24        2.59  2.87               21.0      118.0           2.80   \n",
      "19    13.64        3.10  2.56               15.2      116.0           2.70   \n",
      "20    14.06        1.63  2.28               16.0      126.0           3.00   \n",
      "21    12.93        3.80  2.65               18.6      102.0           2.41   \n",
      "24    13.50        1.81  2.61               20.0       96.0           2.53   \n",
      "\n",
      "    flavanoids  nonflavanoid_phenols  proanthocyanins  color_intensity   hue  \\\n",
      "4         2.69                  0.39             1.82             4.32  1.04   \n",
      "19        3.03                  0.17             1.66             5.10  0.96   \n",
      "20        3.17                  0.24             2.10             5.65  1.09   \n",
      "21        2.41                  0.25             1.98             4.50  1.03   \n",
      "24        2.61                  0.28             1.66             3.52  1.12   \n",
      "\n",
      "    od280/od315_of_diluted_wines  proline  Cluster  \n",
      "4                           2.93    735.0        2  \n",
      "19                          3.36    845.0        2  \n",
      "20                          3.71    780.0        2  \n",
      "21                          3.52    770.0        2  \n",
      "24                          3.82    845.0        2  \n",
      "\n"
     ]
    }
   ],
   "source": [
    "# Print the first few data points in each cluster\n",
    "for cluster, group in clusters:\n",
    "    print(f\"Cluster {cluster}:\")\n",
    "    print(group.head())\n",
    "    print()"
   ]
  },
  {
   "cell_type": "markdown",
   "id": "0b61b4aa",
   "metadata": {},
   "source": [
    "# ResNet-50 model Image Classification"
   ]
  },
  {
   "cell_type": "code",
   "execution_count": 33,
   "id": "9eeb450c",
   "metadata": {},
   "outputs": [],
   "source": [
    "import tensorflow as tf\n",
    "from tensorflow import keras\n",
    "from tensorflow.keras.layers import Dense, Flatten\n",
    "from tensorflow.keras.datasets import mnist"
   ]
  },
  {
   "cell_type": "code",
   "execution_count": 34,
   "id": "ec81a895",
   "metadata": {},
   "outputs": [],
   "source": [
    "# Load the MNIST dataset\n",
    "(train_images, train_labels), (test_images, test_labels) = mnist.load_data()"
   ]
  },
  {
   "cell_type": "code",
   "execution_count": 35,
   "id": "1789a58d",
   "metadata": {},
   "outputs": [],
   "source": [
    "# Preprocess the images and labels\n",
    "train_images = train_images / 255.0\n",
    "test_images = test_images / 255.0"
   ]
  },
  {
   "cell_type": "code",
   "execution_count": 36,
   "id": "99d16f94",
   "metadata": {},
   "outputs": [],
   "source": [
    "# Define a simple feedforward neural network model\n",
    "model = keras.Sequential([\n",
    "    Flatten(input_shape=(28, 28)),  # Flatten the 28x28 images to 1D\n",
    "    Dense(128, activation='relu'),\n",
    "    Dense(10, activation='softmax')  # 10 output classes (digits 0-9)\n",
    "])"
   ]
  },
  {
   "cell_type": "code",
   "execution_count": 37,
   "id": "bc9aa8a3",
   "metadata": {},
   "outputs": [
    {
     "name": "stdout",
     "output_type": "stream",
     "text": [
      "Epoch 1/5\n",
      "1875/1875 [==============================] - 4s 2ms/step - loss: 0.2567 - accuracy: 0.9269\n",
      "Epoch 2/5\n",
      "1875/1875 [==============================] - 4s 2ms/step - loss: 0.1087 - accuracy: 0.9678\n",
      "Epoch 3/5\n",
      "1875/1875 [==============================] - 4s 2ms/step - loss: 0.0775 - accuracy: 0.9765\n",
      "Epoch 4/5\n",
      "1875/1875 [==============================] - 4s 2ms/step - loss: 0.0577 - accuracy: 0.9821\n",
      "Epoch 5/5\n",
      "1875/1875 [==============================] - 4s 2ms/step - loss: 0.0445 - accuracy: 0.9865\n"
     ]
    },
    {
     "data": {
      "text/plain": [
       "<keras.callbacks.History at 0x15d751b7370>"
      ]
     },
     "execution_count": 37,
     "metadata": {},
     "output_type": "execute_result"
    }
   ],
   "source": [
    "# Compile the model\n",
    "model.compile(optimizer='adam',\n",
    "              loss='sparse_categorical_crossentropy',\n",
    "              metrics=['accuracy'])\n",
    "\n",
    "# Train the model\n",
    "model.fit(train_images, train_labels, epochs=5)"
   ]
  },
  {
   "cell_type": "code",
   "execution_count": 38,
   "id": "10a15fd4",
   "metadata": {},
   "outputs": [
    {
     "name": "stdout",
     "output_type": "stream",
     "text": [
      "313/313 [==============================] - 1s 1ms/step - loss: 0.0788 - accuracy: 0.9747\n",
      "Test accuracy: 0.9746999740600586\n"
     ]
    }
   ],
   "source": [
    "# Evaluate the model on the test data\n",
    "test_loss, test_acc = model.evaluate(test_images, test_labels)\n",
    "print(f'Test accuracy: {test_acc}')"
   ]
  },
  {
   "cell_type": "markdown",
   "id": "82257b9d",
   "metadata": {},
   "source": [
    "# Alex Net for Image Classification"
   ]
  },
  {
   "cell_type": "code",
   "execution_count": null,
   "id": "c34d1efc",
   "metadata": {},
   "outputs": [],
   "source": []
  }
 ],
 "metadata": {
  "kernelspec": {
   "display_name": "Python 3 (ipykernel)",
   "language": "python",
   "name": "python3"
  },
  "language_info": {
   "codemirror_mode": {
    "name": "ipython",
    "version": 3
   },
   "file_extension": ".py",
   "mimetype": "text/x-python",
   "name": "python",
   "nbconvert_exporter": "python",
   "pygments_lexer": "ipython3",
   "version": "3.10.5"
  }
 },
 "nbformat": 4,
 "nbformat_minor": 5
}
